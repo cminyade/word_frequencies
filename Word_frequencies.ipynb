{
 "cells": [
  {
   "cell_type": "code",
   "execution_count": null,
   "id": "94cf07d6-eabb-407b-8ec4-6c8eb6ad1f12",
   "metadata": {},
   "outputs": [],
   "source": [
    "def main():\n",
    "    words = input('Enter Text').split()\n",
    "    word_frequencies = {}\n",
    "    for word in (words):\n",
    "        word_frequencies[word] = word_frequencies.get(word, 0) + 1\n",
    "\n",
    "    print(word_frequencies)\n",
    "\n",
    "if __name__ == \"__main__\":\n",
    "    main()"
   ]
  },
  {
   "cell_type": "code",
   "execution_count": 1,
   "id": "254cf57f-7982-4b8b-a3d7-374dc3b0971a",
   "metadata": {},
   "outputs": [
    {
     "ename": "NameError",
     "evalue": "name 'main' is not defined",
     "output_type": "error",
     "traceback": [
      "\u001b[0;31m---------------------------------------------------------------------------\u001b[0m",
      "\u001b[0;31mNameError\u001b[0m                                 Traceback (most recent call last)",
      "Cell \u001b[0;32mIn[1], line 1\u001b[0m\n\u001b[0;32m----> 1\u001b[0m example_2 \u001b[38;5;241m=\u001b[39m main ()\n",
      "\u001b[0;31mNameError\u001b[0m: name 'main' is not defined"
     ]
    }
   ],
   "source": [
    "example_2 = main ()"
   ]
  },
  {
   "cell_type": "code",
   "execution_count": null,
   "id": "04872e28-5958-4095-a5de-778afd7c0a57",
   "metadata": {},
   "outputs": [],
   "source": []
  }
 ],
 "metadata": {
  "kernelspec": {
   "display_name": "Python 3 (ipykernel)",
   "language": "python",
   "name": "python3"
  },
  "language_info": {
   "codemirror_mode": {
    "name": "ipython",
    "version": 3
   },
   "file_extension": ".py",
   "mimetype": "text/x-python",
   "name": "python",
   "nbconvert_exporter": "python",
   "pygments_lexer": "ipython3",
   "version": "3.11.7"
  }
 },
 "nbformat": 4,
 "nbformat_minor": 5
}
